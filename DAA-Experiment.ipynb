{
 "cells": [
  {
   "cell_type": "code",
   "execution_count": 82,
   "metadata": {},
   "outputs": [],
   "source": [
    "#This will be used for best case experiment\n",
    "def generate_increasing_sequence(n):\n",
    "    return [i for i in range(n)]\n",
    "\n",
    "def generate_decreasing_sequence(n):\n",
    "    return [i-1 for i in range(n,0, -1)]\n",
    "\n",
    "def generate_increasing_sequences(size_list):\n",
    "    lst = []\n",
    "    for size in size_list:\n",
    "        lst.append(generate_increasing_sequence(size))\n",
    "    return lst\n",
    "\n",
    "def generate_decreasing_sequences(size_list):\n",
    "    lst = []\n",
    "    for size in size_list:\n",
    "        lst.append(generate_decreasing_sequence(size))\n",
    "    return lst\n"
   ]
  },
  {
   "cell_type": "code",
   "execution_count": 83,
   "metadata": {},
   "outputs": [
    {
     "data": {
      "text/plain": [
       "[[4, 16, 8, 9, 4], [18, 8, 7, 17, 8, 3, 1, 4, 2, 9]]"
      ]
     },
     "execution_count": 83,
     "metadata": {},
     "output_type": "execute_result"
    }
   ],
   "source": [
    "#This will be used for non best case experiment\n",
    "import numpy as np\n",
    "def generate_random_sequence(size=100):\n",
    "    return np.random.randint(low=1, high=20, size=size).tolist()\n",
    "def generate_random_sequences(size_list):\n",
    "    lst = []\n",
    "    for size in size_list:\n",
    "        lst.append(generate_random_sequence(size))\n",
    "    return lst\n",
    "generate_random_sequences([5, 10])"
   ]
  },
  {
   "cell_type": "code",
   "execution_count": 84,
   "metadata": {},
   "outputs": [],
   "source": [
    "import random\n",
    "def partition(array, lo, hi):\n",
    "    rand_index = random.randint(lo,hi)\n",
    "    temp = array[hi]\n",
    "    array[hi] = array[rand_index]\n",
    "    array[rand_index] = temp \n",
    "    pivot = array[hi]\n",
    "    i = lo - 1\n",
    "    for j in range(lo, hi):\n",
    "        if array[j] < pivot:\n",
    "            i += 1\n",
    "            temp = array[i]\n",
    "            array[i] = array[j]\n",
    "            array[j] = temp\n",
    "    temp = array[i + 1]\n",
    "    array[i + 1] = array[hi]\n",
    "    array[hi] = temp\n",
    "    return i + 1\n",
    "\n",
    "def qsort(array, lo, hi):\n",
    "    if lo < hi:\n",
    "        p = _partition(array, lo, hi)\n",
    "        qsort(array, lo, p - 1)\n",
    "        qsort(array, p + 1, hi)\n",
    "    return array\n",
    "\n"
   ]
  },
  {
   "cell_type": "code",
   "execution_count": 85,
   "metadata": {},
   "outputs": [
    {
     "data": {
      "text/plain": [
       "[1, 2, 3, 3, 3]"
      ]
     },
     "execution_count": 85,
     "metadata": {},
     "output_type": "execute_result"
    }
   ],
   "source": [
    "qsort([1,3,3,3,2],0,4)"
   ]
  },
  {
   "cell_type": "code",
   "execution_count": 86,
   "metadata": {},
   "outputs": [],
   "source": [
    "#Timsort implementations based on pseudocode\n",
    "\n",
    "def decompose_runs(lst):\n",
    "    runs = []\n",
    "    run_dir = 0\n",
    "    start_run = lst[0]\n",
    "    curr_run = [start_run]\n",
    "    for i in range(1, len(lst)):\n",
    "        if run_dir==0:\n",
    "            if lst[i] > start_run:\n",
    "                run_dir = 1\n",
    "            else:\n",
    "                run_dir = -1\n",
    "            curr_run.append(lst[i])\n",
    "        elif run_dir==1:\n",
    "            if lst[i] > lst[i-1]:\n",
    "                curr_run.append(lst[i])\n",
    "            else:\n",
    "                start_run = lst[i]\n",
    "                runs.append(curr_run)\n",
    "                curr_run = [start_run]\n",
    "                run_dir = 0\n",
    "        else:\n",
    "            if lst[i] <= lst[i-1]:\n",
    "                curr_run.append(lst[i])\n",
    "            else:\n",
    "                start_run = lst[i]\n",
    "                runs.append(curr_run)\n",
    "                curr_run = [start_run]\n",
    "                run_dir = 0\n",
    "    if run_dir != 0:\n",
    "        runs.append(curr_run)\n",
    "    else:\n",
    "        runs.append([lst[len(lst)-1]])\n",
    "    return runs\n",
    "\n",
    "\n",
    "def modified_merge(lst1, lst2):\n",
    "    lst1_pointer = 0\n",
    "    lst2_pointer = 0\n",
    "    lst1_dir = 0\n",
    "    lst2_dir = 0\n",
    "    \n",
    "    if lst1[0] < lst1[len(lst1)-1]:\n",
    "        lst1_dir = 1\n",
    "        lst1_pointer = 0\n",
    "    else:\n",
    "        lst1_dir = -1\n",
    "        lst1_pointer = len(lst1)-1\n",
    "    \n",
    "    if lst2[0] < lst2[len(lst2)-1]:\n",
    "        lst2_dir = 1\n",
    "        lst2_pointer = 0\n",
    "    else:\n",
    "        lst2_dir = -1\n",
    "        lst2_pointer = len(lst2)-1\n",
    "    lst_ans = []\n",
    "    while (lst1_pointer < len(lst1) and lst1_pointer >= 0) and (lst2_pointer < len(lst2) and lst2_pointer >= 0):\n",
    "        if lst1[lst1_pointer] <= lst2[lst2_pointer]:\n",
    "            lst_ans.append(lst1[lst1_pointer])\n",
    "            lst1_pointer += lst1_dir\n",
    "        else:\n",
    "            lst_ans.append(lst2[lst2_pointer])\n",
    "            lst2_pointer += lst2_dir\n",
    "    while lst1_pointer < len(lst1) and lst1_pointer >= 0:\n",
    "        lst_ans.append(lst1[lst1_pointer])\n",
    "        lst1_pointer += lst1_dir\n",
    "    \n",
    "    while lst2_pointer < len(lst2) and lst2_pointer >= 0:\n",
    "        lst_ans.append(lst2[lst2_pointer])\n",
    "        lst2_pointer += lst2_dir\n",
    "    return lst_ans\n",
    "\n",
    "def timsort(lst):\n",
    "    runs = decompose_runs(lst)\n",
    "    if len(runs) == 1:\n",
    "        run = runs[0]\n",
    "        if run[0] > run[len(run)-1]:\n",
    "            #Reverse the run, this runs in O(n)\n",
    "            return run[::-1]\n",
    "        else:\n",
    "            return run\n",
    "    stack = []\n",
    "    while len(runs) > 0:\n",
    "        popped_run = runs[0]\n",
    "        runs = runs[1:]\n",
    "        stack.append(popped_run)\n",
    "        stopped = False\n",
    "        while True:\n",
    "            #Case 1\n",
    "            if len(stack) >= 3 and len(stack[-1]) > len(stack[-3]):\n",
    "                r1 = stack[-1] \n",
    "                r2 = stack[-2]\n",
    "                r3 = stack[-3]\n",
    "                stack[-3] = modified_merge(r3,r2)\n",
    "                stack[-2] = r1\n",
    "                stack.pop()\n",
    "            #Case 2\n",
    "            elif len(stack) >= 2 and len(stack[-1]) >= len(stack[-2]):\n",
    "                r1 = stack[-1] \n",
    "                r2 = stack[-2]\n",
    "                stack[-2] = modified_merge(r2,r1)\n",
    "                stack.pop()\n",
    "            #Case 3\n",
    "            elif len(stack) >= 3 and len(stack[-1])+len(stack[-2]) >= len(stack[-3]):\n",
    "                r1 = stack[-1] \n",
    "                r2 = stack[-2]\n",
    "                r3 = stack[-3]\n",
    "                stack[-2] = modified_merge(r2,r1)\n",
    "                stack.pop()\n",
    "            #Case 4\n",
    "            elif len(stack) >= 4 and len(stack[-2])+len(stack[-3]) >= len(stack[-4]):\n",
    "                r1 = stack[-1] \n",
    "                r2 = stack[-2]\n",
    "                r3 = stack[-3]\n",
    "                r4 = stack[-4]\n",
    "                stack[-2] = modified_merge(r2,r1)\n",
    "                stack.pop()\n",
    "            else:\n",
    "                break\n",
    "    while len(stack) > 1:\n",
    "        r1 = stack[-1]\n",
    "        r2 = stack[-2]\n",
    "        stack[-2] = modified_merge(r2,r1)\n",
    "        stack.pop()\n",
    "    return stack[0]\n",
    "        "
   ]
  },
  {
   "cell_type": "code",
   "execution_count": 87,
   "metadata": {},
   "outputs": [],
   "source": [
    "#merge sort \n",
    "def merge(lst1, lst2):\n",
    "    lst1_pointer = 0\n",
    "    lst2_pointer = 0\n",
    "    lst_ans = []\n",
    "    while lst1_pointer < len(lst1) and lst2_pointer < len(lst2):\n",
    "        if lst1[lst1_pointer] <= lst2[lst2_pointer]:\n",
    "            lst_ans.append(lst1[lst1_pointer])\n",
    "            lst1_pointer += 1\n",
    "        else:\n",
    "            lst_ans.append(lst2[lst2_pointer])\n",
    "            lst2_pointer += 1\n",
    "    while lst1_pointer < len(lst1):\n",
    "        lst_ans.append(lst1[lst1_pointer])\n",
    "        lst1_pointer += 1\n",
    "    \n",
    "    while lst2_pointer < len(lst2):\n",
    "        lst_ans.append(lst2[lst2_pointer])\n",
    "        lst2_pointer += 1\n",
    "    return lst_ans\n",
    "\n",
    "def merge_sort(lst):\n",
    "    if len(lst) <= 1:\n",
    "        return lst\n",
    "    mid = len(lst)//2\n",
    "    left = lst[:mid]\n",
    "    right = lst[mid:]\n",
    "    left = merge_sort(left)\n",
    "    right = merge_sort(right)\n",
    "    lst = merge(left, right)\n",
    "    return lst"
   ]
  },
  {
   "cell_type": "code",
   "execution_count": 90,
   "metadata": {},
   "outputs": [],
   "source": [
    "import time\n",
    "def get_time_qsort(lst):\n",
    "    start = time.time()\n",
    "    qsort(lst, 0, len(lst)-1)\n",
    "    end = time.time()\n",
    "    return end - start\n",
    "\n",
    "def get_time_merge_sort(lst):\n",
    "    start = time.time()\n",
    "    res = merge_sort(lst)\n",
    "    end = time.time()\n",
    "    return end - start\n",
    "\n",
    "def get_time_timsort(lst):\n",
    "    start = time.time()\n",
    "    res = timsort(lst)\n",
    "    end = time.time()\n",
    "    return end - start\n"
   ]
  },
  {
   "cell_type": "code",
   "execution_count": 107,
   "metadata": {},
   "outputs": [],
   "source": [
    "import matplotlib.pyplot as plt\n",
    "import seaborn as sns\n",
    "sns.set_style('darkgrid')\n",
    "size_lst = [2,4,8,16,32,64,128,256,512,1024,2048]\n",
    "qsort_inc_time = []\n",
    "qsort_dec_time = []\n",
    "qsort_rand_time = []\n",
    "msort_inc_time = []\n",
    "msort_dec_time = []\n",
    "msort_rand_time = []\n",
    "tsort_inc_time = []\n",
    "tsort_dec_time  = []\n",
    "tsort_rand_time = []\n",
    "rand_lst = generate_random_sequences(size_lst)\n",
    "inc_lst = generate_increasing_sequences(size_lst)\n",
    "dec_lst = generate_decreasing_sequences(size_lst)\n",
    "\n",
    "#count timer for timsort\n",
    "for lst in rand_lst:\n",
    "    tsort_rand_time.append(get_time_timsort(lst))\n",
    "for lst in inc_lst:\n",
    "    tsort_inc_time.append(get_time_timsort(lst))\n",
    "for lst in dec_lst:\n",
    "    tsort_dec_time.append(get_time_timsort(lst))\n",
    "\n",
    "    \n",
    "#count timer for merge sort\n",
    "for lst in rand_lst:\n",
    "    msort_rand_time.append(get_time_merge_sort(lst))\n",
    "for lst in inc_lst:\n",
    "    msort_inc_time.append(get_time_merge_sort(lst))\n",
    "for lst in dec_lst:\n",
    "    msort_dec_time.append(get_time_merge_sort(lst))\n",
    "    \n",
    "#count timer for quick sort\n",
    "for lst in rand_lst:\n",
    "    qsort_rand_time.append(get_time_qsort(lst))\n",
    "for lst in inc_lst:\n",
    "    qsort_inc_time.append(get_time_qsort(lst))\n",
    "for lst in dec_lst:\n",
    "    qsort_dec_time.append(get_time_qsort(lst))"
   ]
  },
  {
   "cell_type": "code",
   "execution_count": 108,
   "metadata": {},
   "outputs": [
    {
     "data": {
      "image/png": "[encoded data removed]",
      "text/plain": [
       "<Figure size 432x288 with 1 Axes>"
      ]
     },
     "metadata": {},
     "output_type": "display_data"
    }
   ],
   "source": [
    "x = [i for i in range(1, len(size_lst)+1)]\n",
    "plt.plot(x, tsort_rand_time)\n",
    "plt.plot(x, msort_rand_time)\n",
    "plt.plot(x, qsort_rand_time)\n",
    "plt.xlabel('array size')\n",
    "plt.ylabel('time elapsed')\n",
    "labels = [f\"{size}\" for size in size_lst]\n",
    "plt.legend(['Timsort', 'Merge sort', 'Quick sort'])\n",
    "plt.xticks(x, labels)\n",
    "plt.savefig(\"Random sequence peformance\")\n",
    "plt.show()"
   ]
  },
  {
   "cell_type": "code",
   "execution_count": 109,
   "metadata": {},
   "outputs": [
    {
     "data": {
      "image/png": "[encoded data removed]",
      "text/plain": [
       "<Figure size 432x288 with 1 Axes>"
      ]
     },
     "metadata": {},
     "output_type": "display_data"
    }
   ],
   "source": [
    "x = [i for i in range(1, len(size_lst)+1)]\n",
    "plt.plot(x, tsort_inc_time)\n",
    "plt.plot(x, msort_inc_time)\n",
    "plt.plot(x, qsort_inc_time)\n",
    "plt.xlabel('array size')\n",
    "plt.ylabel('time elapsed')\n",
    "labels = [f\"{size}\" for size in size_lst]\n",
    "plt.legend(['Timsort', 'Merge sort', 'Quick sort'])\n",
    "plt.xticks(x, labels)\n",
    "plt.savefig(\"Increasing sequence peformance\")\n",
    "plt.show()"
   ]
  },
  {
   "cell_type": "code",
   "execution_count": 110,
   "metadata": {},
   "outputs": [
    {
     "data": {
      "image/png": "[encoded data removed]",
      "text/plain": [
       "<Figure size 432x288 with 1 Axes>"
      ]
     },
     "metadata": {},
     "output_type": "display_data"
    }
   ],
   "source": [
    "x = [i for i in range(1, len(size_lst)+1)]\n",
    "plt.plot(x, tsort_dec_time)\n",
    "plt.plot(x, msort_dec_time)\n",
    "plt.plot(x, qsort_dec_time)\n",
    "plt.xlabel('array size')\n",
    "plt.ylabel('time elapsed')\n",
    "labels = [f\"{size}\" for size in size_lst]\n",
    "plt.legend(['Timsort', 'Merge sort', 'Quick sort'])\n",
    "plt.xticks(x, labels)\n",
    "plt.savefig(\"Decreasing sequence peformance\")\n",
    "plt.show()"
   ]
  },
  {
   "cell_type": "code",
   "execution_count": null,
   "metadata": {},
   "outputs": [],
   "source": []
  }
 ],
 "metadata": {
  "kernelspec": {
   "display_name": "Python 3",
   "language": "python",
   "name": "python3"
  },
  "language_info": {
   "codemirror_mode": {
    "name": "ipython",
    "version": 3
   },
   "file_extension": ".py",
   "mimetype": "text/x-python",
   "name": "python",
   "nbconvert_exporter": "python",
   "pygments_lexer": "ipython3",
   "version": "3.8.5"
  }
 },
 "nbformat": 4,
 "nbformat_minor": 4
}
